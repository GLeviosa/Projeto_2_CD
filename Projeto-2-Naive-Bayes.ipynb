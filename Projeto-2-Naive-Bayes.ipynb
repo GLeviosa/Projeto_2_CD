{
 "cells": [
  {
   "cell_type": "code",
   "execution_count": 42,
   "metadata": {},
   "outputs": [],
   "source": [
    "import pandas as pd\n",
    "from scipy import stats\n",
    "import matplotlib.pyplot as plt\n",
    "import os.path\n",
    "import numpy as np"
   ]
  },
  {
   "cell_type": "markdown",
   "metadata": {},
   "source": [
    "# Projeto 2 - Classificador Automático de Sentimento\n",
    "\n",
    "Você foi contratado por uma empresa parar analisar como os clientes estão reagindo a um determinado produto no Twitter. A empresa deseja que você crie um programa que irá analisar as mensagens disponíveis e classificará como \"relevante\" ou \"irrelevante\". Com isso ela deseja que mensagens negativas, que denigrem o nome do produto, ou que mereçam destaque, disparem um foco de atenção da área de marketing.<br /><br />\n",
    "Como aluno de Ciência dos Dados, você lembrou do Teorema de Bayes, mais especificamente do Classificador Naive-Bayes, que é largamente utilizado em filtros anti-spam de e-mails. O classificador permite calcular qual a probabilidade de uma mensagem ser relevante dadas as palavras em seu conteúdo.<br /><br />\n",
    "Para realizar o MVP (*minimum viable product*) do projeto, você precisa implementar uma versão do classificador que \"aprende\" o que é relevante com uma base de treinamento e compara a performance dos resultados com uma base de testes.<br /><br />\n",
    "Após validado, o seu protótipo poderá também capturar e classificar automaticamente as mensagens da plataforma.\n",
    "\n",
    "## Informações do Projeto\n",
    "\n",
    "Prazo: 19/Set até às 23:59.<br />\n",
    "Grupo: 2 ou 3 pessoas - grupos com 3 pessoas terá uma rubrica diferenciada.<br /><br />\n",
    "Entregáveis via GitHub: \n",
    "* Arquivo notebook com o código do classificador, seguindo as orientações abaixo.\n",
    "* Arquivo Excel com as bases de treinamento e teste totalmente classificado.\n",
    "\n",
    "**NÃO gravar a key do professor no arquivo**\n",
    "\n",
    "\n",
    "### Entrega Intermediária: Check 1 - APS 2\n",
    "\n",
    "Até o dia 10/Set às 23:59, xlsx deve estar no Github com as seguintes evidências: \n",
    "\n",
    "  * Produto escolhido.\n",
    "  * Arquivo Excel contendo a base de treinamento e a base de testes já classificadas.\n",
    "\n",
    "Sugestão de leitura:<br />\n",
    "https://monkeylearn.com/blog/practical-explanation-naive-bayes-classifier/"
   ]
  },
  {
   "cell_type": "markdown",
   "metadata": {},
   "source": [
    "___\n",
    "\n",
    "## Parte I - Adquirindo a Base de Dados\n",
    "\n",
    "Acessar o notebook **Projeto-2-Planilha** para realizar a coleta dos dados. O grupo deve classificar os dados coletados manualmente."
   ]
  },
  {
   "cell_type": "markdown",
   "metadata": {},
   "source": [
    "___\n",
    "## Parte II - Montando o Classificador Naive-Bayes\n",
    "\n",
    "Com a base de treinamento montada, comece a desenvolver o classificador. Não se esqueça de implementar o Laplace Smoothing (https://en.wikipedia.org/wiki/Laplace_smoothing).\n",
    "\n",
    "Opcionalmente: \n",
    "* Limpar as mensagens removendo os caracteres: enter, :, \", ', (, ), etc. Não remover emojis.<br />\n",
    "* Corrigir separação de espaços entre palavras e/ou emojis.\n",
    "* Propor outras limpezas/transformações que não afetem a qualidade da informação.\n",
    "\n",
    "Escreva o seu código abaixo:"
   ]
  },
  {
   "cell_type": "code",
   "execution_count": 43,
   "metadata": {
    "scrolled": true
   },
   "outputs": [
    {
     "data": {
      "text/html": [
       "<div>\n",
       "<style scoped>\n",
       "    .dataframe tbody tr th:only-of-type {\n",
       "        vertical-align: middle;\n",
       "    }\n",
       "\n",
       "    .dataframe tbody tr th {\n",
       "        vertical-align: top;\n",
       "    }\n",
       "\n",
       "    .dataframe thead th {\n",
       "        text-align: right;\n",
       "    }\n",
       "</style>\n",
       "<table border=\"1\" class=\"dataframe\">\n",
       "  <thead>\n",
       "    <tr style=\"text-align: right;\">\n",
       "      <th></th>\n",
       "      <th>Treinamento</th>\n",
       "      <th>Relevancia</th>\n",
       "    </tr>\n",
       "  </thead>\n",
       "  <tbody>\n",
       "    <tr>\n",
       "      <th>0</th>\n",
       "      <td>game marvel's spiderman  ps4 caão submarino  r...</td>\n",
       "      <td>0</td>\n",
       "    </tr>\n",
       "    <tr>\n",
       "      <th>1</th>\n",
       "      <td>ignbrasil o melhor game do homemaranha em dez...</td>\n",
       "      <td>1</td>\n",
       "    </tr>\n",
       "    <tr>\n",
       "      <th>2</th>\n",
       "      <td>apesar de todas as polêmicas envolvendo reclam...</td>\n",
       "      <td>1</td>\n",
       "    </tr>\n",
       "    <tr>\n",
       "      <th>3</th>\n",
       "      <td>promobitoficial promoção ofea  prévenda jogo ...</td>\n",
       "      <td>0</td>\n",
       "    </tr>\n",
       "    <tr>\n",
       "      <th>4</th>\n",
       "      <td>ignbrasil o melhor game do homemaranha em dez...</td>\n",
       "      <td>1</td>\n",
       "    </tr>\n",
       "    <tr>\n",
       "      <th>5</th>\n",
       "      <td>ignbrasil o melhor game do homemaranha em dez...</td>\n",
       "      <td>1</td>\n",
       "    </tr>\n",
       "    <tr>\n",
       "      <th>6</th>\n",
       "      <td>declare sua independência com o maravilhoso sp...</td>\n",
       "      <td>0</td>\n",
       "    </tr>\n",
       "    <tr>\n",
       "      <th>7</th>\n",
       "      <td>o pablomiyazawa conversou com a diretora de ae...</td>\n",
       "      <td>0</td>\n",
       "    </tr>\n",
       "    <tr>\n",
       "      <th>8</th>\n",
       "      <td>ignbrasil o melhor game do homemaranha em dez...</td>\n",
       "      <td>1</td>\n",
       "    </tr>\n",
       "    <tr>\n",
       "      <th>9</th>\n",
       "      <td>ignbrasil o melhor game do homemaranha em dez...</td>\n",
       "      <td>1</td>\n",
       "    </tr>\n",
       "  </tbody>\n",
       "</table>\n",
       "</div>"
      ],
      "text/plain": [
       "                                         Treinamento  Relevancia\n",
       "0  game marvel's spiderman  ps4 caão submarino  r...           0\n",
       "1   ignbrasil o melhor game do homemaranha em dez...           1\n",
       "2  apesar de todas as polêmicas envolvendo reclam...           1\n",
       "3   promobitoficial promoção ofea  prévenda jogo ...           0\n",
       "4   ignbrasil o melhor game do homemaranha em dez...           1\n",
       "5   ignbrasil o melhor game do homemaranha em dez...           1\n",
       "6  declare sua independência com o maravilhoso sp...           0\n",
       "7  o pablomiyazawa conversou com a diretora de ae...           0\n",
       "8   ignbrasil o melhor game do homemaranha em dez...           1\n",
       "9   ignbrasil o melhor game do homemaranha em dez...           1"
      ]
     },
     "execution_count": 43,
     "metadata": {},
     "output_type": "execute_result"
    }
   ],
   "source": [
    "tweets = pd.read_excel(\"tweets_Game Marvel's Spider-Man - PS4_201809101603.xlsx\") #lê o excel\n",
    "lista_lixo = [',','@','/',':',';','rt','r$','\\n','\\(','\\)','#','\\?','-','\"','\\[','\\]'] #lista com o que queremos remover dos tweets\n",
    "\n",
    "for e in lista_lixo: #Remove o 'Lixo'\n",
    "    tweets.Treinamento = tweets.Treinamento.replace(e,'',regex=True)\n",
    "tweets.head(10)"
   ]
  },
  {
   "cell_type": "code",
   "execution_count": 44,
   "metadata": {
    "scrolled": true
   },
   "outputs": [
    {
     "data": {
      "text/plain": [
       "de        273\n",
       "à         237\n",
       "um        165\n",
       "o         163\n",
       "jogo      157\n",
       "no        152\n",
       "pra       140\n",
       "spider    140\n",
       "os        133\n",
       "pedido    131\n",
       "dtype: int64"
      ]
     },
     "execution_count": 44,
     "metadata": {},
     "output_type": "execute_result"
    }
   ],
   "source": [
    "strain_col = pd.Series(np.sum(tweets.Treinamento + \" \").split()) #Separa as palavras em strings\n",
    "relevs_col = tweets.Relevancia #Cria uma coluna com as relevâncias \n",
    "strain_col.value_counts().head(10) #Imprime e conta palavras iguais"
   ]
  },
  {
   "cell_type": "code",
   "execution_count": 45,
   "metadata": {
    "scrolled": true
   },
   "outputs": [
    {
     "data": {
      "text/plain": [
       "0    0\n",
       "1    1\n",
       "2    1\n",
       "3    0\n",
       "4    1\n",
       "5    1\n",
       "6    0\n",
       "7    0\n",
       "8    1\n",
       "9    1\n",
       "Name: Relevancia, dtype: int64"
      ]
     },
     "execution_count": 45,
     "metadata": {},
     "output_type": "execute_result"
    }
   ],
   "source": [
    "prob = relevs_col.value_counts()\n",
    "relevs_col.head(10)"
   ]
  },
  {
   "cell_type": "code",
   "execution_count": 46,
   "metadata": {},
   "outputs": [
    {
     "name": "stdout",
     "output_type": "stream",
     "text": [
      "73 % 26 %\n"
     ]
    }
   ],
   "source": [
    "prob_relevante = prob[1]/len(relevs_col) #Calcula a provabilidade de uma palavra ser relevante entre todas as palavras do DataFrame\n",
    "prob_irrelevante = prob[0]/len(relevs_col) #Calcula a provabilidade de uma palavra ser irrelevante entre todas as palavras do DataFrame\n",
    "print(int(prob_relevante * 100),'%', int(prob_irrelevante * 100),'%')\n"
   ]
  },
  {
   "cell_type": "code",
   "execution_count": 47,
   "metadata": {},
   "outputs": [
    {
     "data": {
      "text/plain": [
       "à                  236\n",
       "de                 218\n",
       "um                 150\n",
       "jogo               143\n",
       "no                 141\n",
       "casamento          128\n",
       "pra                127\n",
       "pedido             127\n",
       "os                 124\n",
       "insomniac          122\n",
       "meu                122\n",
       "dele               119\n",
       "namorada           119\n",
       "pediu              119\n",
       "deus               118\n",
       "como…              118\n",
       "colocar            118\n",
       "rafafernandes64    118\n",
       "colocaram          118\n",
       "caras              118\n",
       "dtype: int64"
      ]
     },
     "execution_count": 47,
     "metadata": {},
     "output_type": "execute_result"
    }
   ],
   "source": [
    "tweets_relevantes = tweets[tweets.Relevancia == 1] #Separa os tweets relevantes\n",
    "tweets_irrelevantes = tweets[tweets.Relevancia == 0] #Separa os tweets irrelevantes\n",
    "Quantidade_em_relev =  pd.Series(np.sum(tweets_relevantes.Treinamento + \" \").split())\n",
    "Quantidade_em_relev.value_counts().head(20) #Imprime uma coluna com as quantidades de cada plavra dentro do grupo de relevantes"
   ]
  },
  {
   "cell_type": "code",
   "execution_count": 48,
   "metadata": {},
   "outputs": [
    {
     "data": {
      "text/plain": [
       "o            71\n",
       "spider       58\n",
       "de           55\n",
       "man          45\n",
       "do           31\n",
       "a            30\n",
       "e            29\n",
       "ps4          28\n",
       "que          25\n",
       "é            19\n",
       "eu           19\n",
       "spiderman    19\n",
       "marvel's     16\n",
       "um           15\n",
       "não          14\n",
       "jogo         14\n",
       "com          14\n",
       "game         14\n",
       "mas          13\n",
       "pra          13\n",
       "dtype: int64"
      ]
     },
     "execution_count": 48,
     "metadata": {},
     "output_type": "execute_result"
    }
   ],
   "source": [
    "Quantidade_em_irrelev =  pd.Series(np.sum(tweets_irrelevantes.Treinamento + \" \").split())\n",
    "Quantidade_em_irrelev.value_counts().head(20) #Imprime uma coluna com as quantidades de cada plavra dentro do grupo de relevantes"
   ]
  },
  {
   "cell_type": "code",
   "execution_count": null,
   "metadata": {},
   "outputs": [],
   "source": [
    "Verifica_data = pd.read_excel('tweets_spider man_201809182225.xlsx')\n",
    "for e in lista_lixo: #Remove o 'Lixo'\n",
    "    Verifica_data.Treinamento = Verifica_data.Treinamento.replace(e,'',regex=True)\n",
    "    \n",
    "def Naive(Tweet):\n",
    "    Tweet.split\n",
    "    "
   ]
  },
  {
   "cell_type": "markdown",
   "metadata": {},
   "source": [
    "___\n",
    "## Verificando a performance\n",
    "\n",
    "Agora você deve testar o seu Classificador com a base de Testes.<br /><br /> \n",
    "\n",
    "Você deve extrair as seguintes medidas:\n",
    "* Porcentagem de positivos falsos (marcados como relevante mas não são relevantes)\n",
    "* Porcentagem de positivos verdadeiros (marcado como relevante e são relevantes)\n",
    "* Porcentagem de negativos verdadeiros (marcado como não relevante e não são relevantes)\n",
    "* Porcentagem de negativos falsos (marcado como não relevante e são relevantes)\n",
    "\n",
    "Obrigatório para grupos de 3 alunos:\n",
    "* Criar categorias intermediárias de relevância baseado na diferença de probabilidades. Exemplo: muito relevante, relevante, neutro, irrelevante e muito irrelevante."
   ]
  },
  {
   "cell_type": "code",
   "execution_count": 50,
   "metadata": {
    "scrolled": true
   },
   "outputs": [
    {
     "data": {
      "text/html": [
       "<div>\n",
       "<style scoped>\n",
       "    .dataframe tbody tr th:only-of-type {\n",
       "        vertical-align: middle;\n",
       "    }\n",
       "\n",
       "    .dataframe tbody tr th {\n",
       "        vertical-align: top;\n",
       "    }\n",
       "\n",
       "    .dataframe thead th {\n",
       "        text-align: right;\n",
       "    }\n",
       "</style>\n",
       "<table border=\"1\" class=\"dataframe\">\n",
       "  <thead>\n",
       "    <tr style=\"text-align: right;\">\n",
       "      <th></th>\n",
       "      <th>Treinamento</th>\n",
       "    </tr>\n",
       "  </thead>\n",
       "  <tbody>\n",
       "    <tr>\n",
       "      <th>0</th>\n",
       "      <td>o jogo do spider man eu quero jogaaaaa</td>\n",
       "    </tr>\n",
       "    <tr>\n",
       "      <th>1</th>\n",
       "      <td>i liked a youtube video httpst.coswf0s6msea o ...</td>\n",
       "    </tr>\n",
       "    <tr>\n",
       "      <th>2</th>\n",
       "      <td>zerei o modo história do spider man e confesso...</td>\n",
       "    </tr>\n",
       "    <tr>\n",
       "      <th>3</th>\n",
       "      <td>gostei de um vídeo youtube httpst.coi9jxavdrba...</td>\n",
       "    </tr>\n",
       "    <tr>\n",
       "      <th>4</th>\n",
       "      <td>gostei de um vídeo youtube httpst.cotx4u5s3txj...</td>\n",
       "    </tr>\n",
       "    <tr>\n",
       "      <th>5</th>\n",
       "      <td>spider man ta tao lindo q ja joguei 50% do jogo</td>\n",
       "    </tr>\n",
       "    <tr>\n",
       "      <th>6</th>\n",
       "      <td>agora não preciso dormir pq tenho spider man h...</td>\n",
       "    </tr>\n",
       "    <tr>\n",
       "      <th>7</th>\n",
       "      <td>gostei de um vídeo youtube httpst.coqgtlbkjb3o...</td>\n",
       "    </tr>\n",
       "    <tr>\n",
       "      <th>8</th>\n",
       "      <td>gostei de um vídeo youtube httpst.cobjwcox2ky0...</td>\n",
       "    </tr>\n",
       "    <tr>\n",
       "      <th>9</th>\n",
       "      <td>adicionei um vídeo a uma playlist youtube http...</td>\n",
       "    </tr>\n",
       "  </tbody>\n",
       "</table>\n",
       "</div>"
      ],
      "text/plain": [
       "                                         Treinamento\n",
       "0             o jogo do spider man eu quero jogaaaaa\n",
       "1  i liked a youtube video httpst.coswf0s6msea o ...\n",
       "2  zerei o modo história do spider man e confesso...\n",
       "3  gostei de um vídeo youtube httpst.coi9jxavdrba...\n",
       "4  gostei de um vídeo youtube httpst.cotx4u5s3txj...\n",
       "5    spider man ta tao lindo q ja joguei 50% do jogo\n",
       "6  agora não preciso dormir pq tenho spider man h...\n",
       "7  gostei de um vídeo youtube httpst.coqgtlbkjb3o...\n",
       "8  gostei de um vídeo youtube httpst.cobjwcox2ky0...\n",
       "9  adicionei um vídeo a uma playlist youtube http..."
      ]
     },
     "execution_count": 50,
     "metadata": {},
     "output_type": "execute_result"
    }
   ],
   "source": []
  },
  {
   "cell_type": "markdown",
   "metadata": {},
   "source": [
    "___\n",
    "## Concluindo\n",
    "\n",
    "Escreva aqui a sua conclusão.<br /> \n",
    "Faça um comparativo qualitativo sobre as medidas obtidas.<br />\n",
    "Explique como são tratadas as mensagens com dupla negação e sarcasmo.<br />\n",
    "Proponha um plano de expansão. Por que eles devem continuar financiando o seu projeto?<br />\n",
    "\n",
    "Opcionalmente: \n",
    "* Discorrer por que não posso alimentar minha base de Treinamento automaticamente usando o próprio classificador, aplicado a novos tweets.\n",
    "* Propor diferentes cenários de uso para o classificador Naive-Bayes. Cenários sem intersecção com este projeto.\n",
    "* Sugerir e explicar melhorias reais no classificador com indicações concretas de como implementar (não é preciso codificar, mas indicar como fazer e material de pesquisa sobre o assunto).\n"
   ]
  },
  {
   "cell_type": "code",
   "execution_count": null,
   "metadata": {},
   "outputs": [],
   "source": []
  }
 ],
 "metadata": {
  "kernelspec": {
   "display_name": "Python 3",
   "language": "python",
   "name": "python3"
  },
  "language_info": {
   "codemirror_mode": {
    "name": "ipython",
    "version": 3
   },
   "file_extension": ".py",
   "mimetype": "text/x-python",
   "name": "python",
   "nbconvert_exporter": "python",
   "pygments_lexer": "ipython3",
   "version": "3.6.4"
  }
 },
 "nbformat": 4,
 "nbformat_minor": 2
}
